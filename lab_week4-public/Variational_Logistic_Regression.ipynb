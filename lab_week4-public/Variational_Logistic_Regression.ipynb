{
 "cells": [
  {
   "cell_type": "markdown",
   "metadata": {
    "tags": [],
    "id": "iEJNha5PvMdi"
   },
   "source": [
    "# Advanced Statistical Inference -- Variational Inference for Bayesian Logistic Regression"
   ]
  },
  {
   "cell_type": "markdown",
   "metadata": {
    "jp-MarkdownHeadingCollapsed": true,
    "tags": [],
    "id": "wz3BGUBKvMdl"
   },
   "source": [
    "In this notebook, you will learn how to implement the (stochastic) variational inference algorithm.\n",
    "The gist below will serve you as a refresh on variational inference. \n",
    "For additional information, please check the lecture notes. \n",
    "\n",
    "In the general setting, given a probabilistic model with observations $\\{\\boldsymbol{X},\\boldsymbol{y}\\}$, model parameters $\\boldsymbol{w}$ and likelihood $p(\\boldsymbol{y}|\\boldsymbol{X}, \\boldsymbol{w})$, by introducing an approximate posterior distribution $q_\\theta(\\boldsymbol{w})$ with parameters $\\theta$, the variational lower bound to the log-marginal likelihood is defined as\n",
    "\n",
    "\n",
    "$$\\mathrm{KL}[{q_\\theta(\\boldsymbol{w})}||{p(\\boldsymbol{w}|\\boldsymbol{X},\\boldsymbol{y})}] = -\\mathbb{E}_{q_{\\theta}}\\log p(\\boldsymbol{y}|\\boldsymbol{X}, \\boldsymbol{w}) +  \\mathrm{KL}[{q_{\\theta}(\\boldsymbol{w})}||{p(\\boldsymbol{w})}] + \\log p(\\boldsymbol{y}|\\boldsymbol{X}) $$\n",
    "\n",
    "\n",
    "The objective is then to maximize this variational bound (or evidence lower bound):\n",
    "\n",
    "$$\n",
    "      \\mathcal{L}(\\theta) = \\underbrace{\\mathbb{E}_{q_{\\theta}}\\log p(\\boldsymbol{y}|\\boldsymbol{X}, \\boldsymbol{w})}_\\text{Expected loglikelihood} -  \\mathrm{KL}[{q_{\\theta}(\\boldsymbol{w})}||{p(\\boldsymbol{w})}]\n",
    "$$\n",
    "\n",
    "The analytic evaluation of the ELBO is generally still untractable due to the presence of the expected loglikelihood under the variational distribution (in the majority of  cases the rightmost KL is tractable).\n",
    "This is commonly overcome by sampling $N_\\mathrm{MC}$ times from $q_\\theta$  using the reparameterization trick\n",
    "\n",
    "$$\n",
    "    \\mathbb{E}_{q_{\\theta}}\\log p(\\boldsymbol{y}|\\boldsymbol{X}, \\boldsymbol{w}) \\approx \\dfrac{1}{N_\\mathrm{MC}} \\sum_{\\tilde{\\boldsymbol{w}}_i\\sim q_\\theta} \\log p(\\boldsymbol{y}|\\boldsymbol{X}, \\tilde{\\boldsymbol{w}}_i)\n",
    "$$"
   ]
  },
  {
   "cell_type": "code",
   "metadata": {
    "id": "W3ZKKHH3vMdp",
    "ExecuteTime": {
     "end_time": "2024-06-05T07:54:54.863713Z",
     "start_time": "2024-06-05T07:54:54.859202Z"
    }
   },
   "source": [
    "import jax\n",
    "import jax.numpy as jnp\n",
    "import matplotlib\n",
    "import matplotlib.pyplot as plt\n",
    "import numpy as np\n",
    "import pandas as pd\n",
    "import seaborn as sns\n",
    "from matplotlib import rc\n",
    "from tqdm.notebook import tqdm\n",
    "from functools import partial"
   ],
   "outputs": [],
   "execution_count": 365
  },
  {
   "cell_type": "markdown",
   "metadata": {
    "tags": [],
    "id": "LbdM_r0ZvMdr"
   },
   "source": [
    "## Library and coding\n",
    "\n",
    "This lab is heavily built on JAX. You already used JAX during the lab on Gaussian process regression when you took advantage of the automatic differentation engine to optimize the kernel parameters, without manually writing the derivatives by hand. \n",
    "This time, we will this same auto-diff engine to optimize our variational objective, but we will also take advantage of another key charateristic of JAX: automatic vectorization. This will allow us to efficiently parallelize the computation of the expected likelihood. \n",
    "Below, you have a short tutorial on how this works.\n",
    "\n",
    "Consider the following simple code that computes the convolution of two one-dimensional vectors:"
   ]
  },
  {
   "cell_type": "code",
   "metadata": {
    "id": "J5DQDBYOvMdt",
    "ExecuteTime": {
     "end_time": "2024-06-05T07:54:55.875365Z",
     "start_time": "2024-06-05T07:54:55.861008Z"
    }
   },
   "source": [
    "x = jnp.array([0.0, 1.0, 2.0, 3.0, 4.0])\n",
    "w = jnp.array([2.0, 3.0, 4.0])\n",
    "\n",
    "\n",
    "def convolve(x, w):\n",
    "    y = []\n",
    "    for i in range(1, len(x) - 1):\n",
    "        y.append(jnp.dot(x[i - 1 : i + 2], w))\n",
    "    return jnp.array(y)\n",
    "\n",
    "\n",
    "y = convolve(x, w)\n",
    "print(f\"x = {x}\\nw = {w}\\ny = {y}\")"
   ],
   "outputs": [
    {
     "name": "stdout",
     "output_type": "stream",
     "text": [
      "x = [0. 1. 2. 3. 4.]\n",
      "w = [2. 3. 4.]\n",
      "y = [11. 20. 29.]\n"
     ]
    }
   ],
   "execution_count": 366
  },
  {
   "cell_type": "markdown",
   "metadata": {
    "id": "tHKMJJ06vMdu"
   },
   "source": [
    "Suppose we would like to apply this function to a batch of weights `w` to a batch of vectors `x`"
   ]
  },
  {
   "cell_type": "code",
   "metadata": {
    "id": "Wt7WpV1rvMdv",
    "ExecuteTime": {
     "end_time": "2024-06-05T07:54:55.909655Z",
     "start_time": "2024-06-05T07:54:55.902071Z"
    }
   },
   "source": [
    "X = jnp.stack([x, 2 * x])\n",
    "W = jnp.stack([w, 2 * w])"
   ],
   "outputs": [],
   "execution_count": 367
  },
  {
   "cell_type": "markdown",
   "metadata": {
    "id": "BA-jiqjMvMdw"
   },
   "source": [
    "The most naive option would be to simply loop over the batch in Python and then stack the results; this produces the correct result, however it is not very efficient.\n",
    "In order to batch the computation efficiently, you would normally have to rewrite the function manually to ensure it is done in vectorized form. \n",
    "This is not particularly difficult to implement for this particular example, but does involve changing how the function treats indices, axes, and other parts of the input.\n",
    "Such re-implementation can become messy to understand and error-prone; fortunately JAX provides another way.\n",
    "In JAX, the `jax.vmap` transformation is designed to generate such a vectorized implementation of a function automatically:"
   ]
  },
  {
   "cell_type": "code",
   "metadata": {
    "id": "NPUO0hscvMdx",
    "ExecuteTime": {
     "end_time": "2024-06-05T07:54:56.091348Z",
     "start_time": "2024-06-05T07:54:56.070476Z"
    }
   },
   "source": [
    "Y = jax.vmap(convolve)(X, W)\n",
    "print(f\"X = \\n{X}\\nW =  \\n{W}\\nY =  \\n{Y}\")"
   ],
   "outputs": [
    {
     "name": "stdout",
     "output_type": "stream",
     "text": [
      "X = \n",
      "[[0. 1. 2. 3. 4.]\n",
      " [0. 2. 4. 6. 8.]]\n",
      "W =  \n",
      "[[2. 3. 4.]\n",
      " [4. 6. 8.]]\n",
      "Y =  \n",
      "[[ 11.  20.  29.]\n",
      " [ 44.  80. 116.]]\n"
     ]
    }
   ],
   "execution_count": 368
  },
  {
   "cell_type": "markdown",
   "metadata": {
    "id": "lDvrDBcqvMdy"
   },
   "source": [
    "Additional you can control what to vectorize using `in_axes=[...]`. For example, if you would like to convolve to a single set of weights `w` with a batch of vectors `X` you need to choose `in_axes=[0, None]`: this means \"vectorize on the axis 0 of the first arg but do *not* vectorize on the second arg"
   ]
  },
  {
   "cell_type": "code",
   "metadata": {
    "id": "PiUdInUVvMdz",
    "ExecuteTime": {
     "end_time": "2024-06-05T07:54:56.186848Z",
     "start_time": "2024-06-05T07:54:56.167102Z"
    }
   },
   "source": [
    "Y = jax.vmap(convolve, in_axes=[0, None])(X, w)\n",
    "print(f\"X = \\n{X}\\nw = \\n{w}\\nY =  \\n{Y}\")"
   ],
   "outputs": [
    {
     "name": "stdout",
     "output_type": "stream",
     "text": [
      "X = \n",
      "[[0. 1. 2. 3. 4.]\n",
      " [0. 2. 4. 6. 8.]]\n",
      "w = \n",
      "[2. 3. 4.]\n",
      "Y =  \n",
      "[[11. 20. 29.]\n",
      " [22. 40. 58.]]\n"
     ]
    }
   ],
   "execution_count": 369
  },
  {
   "cell_type": "markdown",
   "metadata": {
    "id": "pKA3m7QlvMd0"
   },
   "source": [
    "Finally, this `vmap` can be also used as decorator, thus keeping the code cleaner"
   ]
  },
  {
   "cell_type": "code",
   "metadata": {
    "tags": [],
    "id": "cUOwhm7rvMd0",
    "ExecuteTime": {
     "end_time": "2024-06-05T07:54:56.370809Z",
     "start_time": "2024-06-05T07:54:56.344902Z"
    }
   },
   "source": [
    "@partial(jax.vmap, in_axes=[0, None])\n",
    "def convolve(x, w):\n",
    "    y = []\n",
    "    for i in range(1, len(x) - 1):\n",
    "        y.append(jnp.dot(x[i - 1 : i + 2], w))\n",
    "    return jnp.array(y)\n",
    "\n",
    "\n",
    "Y = convolve(X, w)\n",
    "print(f\"X = \\n{X}\\nw =\\n {w}\\nY =  \\n{Y}\")"
   ],
   "outputs": [
    {
     "name": "stdout",
     "output_type": "stream",
     "text": [
      "X = \n",
      "[[0. 1. 2. 3. 4.]\n",
      " [0. 2. 4. 6. 8.]]\n",
      "w =\n",
      " [2. 3. 4.]\n",
      "Y =  \n",
      "[[11. 20. 29.]\n",
      " [22. 40. 58.]]\n"
     ]
    }
   ],
   "execution_count": 370
  },
  {
   "cell_type": "markdown",
   "metadata": {
    "tags": [],
    "id": "QJ_zEEblvMd1"
   },
   "source": [
    "### Random number generation in JAX \n",
    "To fully exploit the automatic vectorization of JAX, we will need to switch from the Numpy's random generation to JAX's. \n",
    "The main difference is that JAX is explicit on the definition and usage of the random seed. "
   ]
  },
  {
   "cell_type": "code",
   "metadata": {
    "id": "QIQ4Ydj9vMd1",
    "ExecuteTime": {
     "end_time": "2024-06-05T07:54:56.551567Z",
     "start_time": "2024-06-05T07:54:56.542657Z"
    }
   },
   "source": [
    "rng = jax.random.PRNGKey(0)\n",
    "print(jax.random.uniform(rng))"
   ],
   "outputs": [
    {
     "name": "stdout",
     "output_type": "stream",
     "text": [
      "0.41845703\n"
     ]
    }
   ],
   "execution_count": 371
  },
  {
   "cell_type": "markdown",
   "metadata": {
    "id": "wCR15Q6UvMd2"
   },
   "source": [
    "This also means that in order to have \"true\" random number generation, we need to manually advance the random seed. **The rule of thumb is: never reuse keys (unless you want identical outputs).**\n",
    "In order to generate different and independent samples, you must `split()` the key *yourself* whenever you want to call a random function:"
   ]
  },
  {
   "cell_type": "code",
   "metadata": {
    "id": "EBT3pTThvMd2",
    "ExecuteTime": {
     "end_time": "2024-06-05T07:54:56.651569Z",
     "start_time": "2024-06-05T07:54:56.642011Z"
    }
   },
   "source": [
    "print(\"rng\", rng, \"--> uniform\", jax.random.uniform(rng))\n",
    "rng, new_rng = jax.random.split(rng)\n",
    "normal_sample = jax.random.uniform(new_rng)\n",
    "print(r\"    \\---SPLIT --> new_rng\", new_rng, \"--> uniform\", jax.random.uniform(new_rng))"
   ],
   "outputs": [
    {
     "name": "stdout",
     "output_type": "stream",
     "text": [
      "rng [0 0] --> uniform 0.41845703\n",
      "    \\---SPLIT --> new_rng [2718843009 1272950319] --> uniform 0.10536897\n"
     ]
    }
   ],
   "execution_count": 372
  },
  {
   "cell_type": "markdown",
   "source": [
    "Note, that you can still generate random samples with arbitrary shape as you would in Numpy by specifying the argument `shape`, that is"
   ],
   "metadata": {
    "id": "Uz_VqFvGXJGd"
   }
  },
  {
   "cell_type": "code",
   "source": [
    "jax.random.normal(rng, shape=(2, 2))"
   ],
   "metadata": {
    "id": "TR3A4ez0XZ2L",
    "ExecuteTime": {
     "end_time": "2024-06-05T07:54:56.822596Z",
     "start_time": "2024-06-05T07:54:56.814429Z"
    }
   },
   "outputs": [
    {
     "data": {
      "text/plain": [
       "Array([[ 0.13893168,  1.370668  ],\n",
       "       [-0.53116107,  0.02033782]], dtype=float32)"
      ]
     },
     "execution_count": 373,
     "metadata": {},
     "output_type": "execute_result"
    }
   ],
   "execution_count": 373
  },
  {
   "cell_type": "markdown",
   "metadata": {
    "id": "xJ48liUgvMd3"
   },
   "source": [
    "While all this sounds exceedingly over-complicated, it also allows to very easily vectorize using `jax.vmap` functions that works on random samples. Take a look at the next cell and try to understand what is going on here. "
   ]
  },
  {
   "cell_type": "code",
   "metadata": {
    "id": "vRiIZgeqvMd3",
    "ExecuteTime": {
     "end_time": "2024-06-05T07:54:57.019935Z",
     "start_time": "2024-06-05T07:54:57.009448Z"
    }
   },
   "source": [
    "def take_square(rng):\n",
    "    x = jax.random.uniform(rng)\n",
    "    return x**2\n",
    "\n",
    "\n",
    "multiple_rng = jax.random.split(rng, 10)\n",
    "print(jax.vmap(take_square)(multiple_rng))"
   ],
   "outputs": [
    {
     "name": "stdout",
     "output_type": "stream",
     "text": [
      "[0.18335158 0.16520822 0.06204242 0.2697091  0.3237503  0.9521957\n",
      " 0.6158954  0.01525186 0.82254595 0.39826623]\n"
     ]
    }
   ],
   "execution_count": 374
  },
  {
   "cell_type": "markdown",
   "metadata": {
    "id": "O63Z2vgOvMd4"
   },
   "source": [
    "# 1. Setup and data\n",
    "\n",
    "Similarly to the previous lab, you’re going to implement the VI algorithm described in the lecture for binary classification."
   ]
  },
  {
   "cell_type": "code",
   "metadata": {
    "tags": [],
    "id": "NuWvSwfgvMd4",
    "ExecuteTime": {
     "end_time": "2024-06-05T07:54:57.099854Z",
     "start_time": "2024-06-05T07:54:57.089637Z"
    }
   },
   "source": [
    "def plot_data(X, y, ax):\n",
    "    mask = y == 1\n",
    "    config = dict(edgecolor=\"black\", linewidth=1, zorder=10)\n",
    "    ax.scatter(*X[mask].T, label=\"Class 1\", facecolor=\"tab:blue\", **config)\n",
    "    ax.scatter(*X[~mask].T, label=\"Class 0\", facecolor=\"tab:orange\", **config)\n",
    "\n",
    "\n",
    "def get_grid(xlim=(-3, 3), ylim=None, N=100):\n",
    "    if ylim is None:\n",
    "        ylim = xlim\n",
    "    x_grid = np.linspace(*xlim, N)\n",
    "    y_grid = np.linspace(*ylim, N)\n",
    "    xx, yy = np.meshgrid(x_grid, y_grid)\n",
    "    X_plot = np.vstack((xx.flatten(), yy.flatten())).T\n",
    "    return xx, yy, X_plot"
   ],
   "outputs": [],
   "execution_count": 375
  },
  {
   "cell_type": "code",
   "source": [
    "import os\n",
    "if not os.path.exists(\"binaryclass2.csv\"):\n",
    "    !wget https://raw.githubusercontent.com/srossi93/asi-labs/master/lab_week4-public/binaryclass2.csv"
   ],
   "metadata": {
    "id": "_PrlezKgvOxp",
    "ExecuteTime": {
     "end_time": "2024-06-05T07:54:57.313415Z",
     "start_time": "2024-06-05T07:54:57.307192Z"
    }
   },
   "outputs": [],
   "execution_count": 376
  },
  {
   "cell_type": "code",
   "metadata": {
    "tags": [],
    "id": "VDlEiSQevMd5",
    "ExecuteTime": {
     "end_time": "2024-06-05T07:54:57.850301Z",
     "start_time": "2024-06-05T07:54:57.456185Z"
    }
   },
   "source": [
    "data = np.loadtxt(\"binaryclass2.csv\", delimiter=\",\")\n",
    "X = data[..., :-1]\n",
    "y = data[..., -1]\n",
    "\n",
    "fig, ax = plt.subplots(figsize=[5, 3])\n",
    "plot_data(X, y, ax)\n",
    "ax.set_title(\"Binary classification\")\n",
    "ax.legend()\n",
    "ax.set_xlim(-6, 6), ax.set_ylim(-6, 6)\n",
    "plt.show()"
   ],
   "outputs": [
    {
     "data": {
      "text/plain": [
       "<Figure size 500x300 with 1 Axes>"
      ],
      "image/png": "[encoded data removed]"
     },
     "metadata": {},
     "output_type": "display_data"
    }
   ],
   "execution_count": 377
  },
  {
   "cell_type": "markdown",
   "metadata": {
    "id": "mJ8u70xsvMd5"
   },
   "source": [
    "Let's start by defining some probability distributions that we will need in this notebook. \n",
    "First, the Bernoulli distribution. \n",
    "\n",
    "**Exercise:**\n",
    "Complete the following class to compute the logdensity of the Bernoulli distribution. Since we will be taking gradients of this likelihood, it's possible that during optimization $p$ becomes (down to machine precision) exactly 0 or 1, which makes the evaluation of the logarithm troublesome. To avoide this behavior, simply add a small quantity (like `1e-10`) before computing the log."
   ]
  },
  {
   "cell_type": "code",
   "metadata": {
    "id": "s1LcAwbSvMd6",
    "ExecuteTime": {
     "end_time": "2024-06-05T07:54:57.857910Z",
     "start_time": "2024-06-05T07:54:57.852965Z"
    }
   },
   "source": [
    "def bernoulli_density(y, p):\n",
    "    # @@ COMPLETE @@ #\n",
    "    return jnp.log(jnp.where(y == 1, p, 1 - p) + 1e-10)"
   ],
   "outputs": [],
   "execution_count": 378
  },
  {
   "cell_type": "markdown",
   "metadata": {
    "id": "6y-GWwp4vMd6"
   },
   "source": [
    "**Exercise:** \n",
    "Now let's move to the Gaussian distribution. Note that the parameter $\\sigma^2$ is always expected to be positive while it is possible that the optimisation algorithm attempts to evaluate the log-likelihood in regions of the parameter space where one or more of these parameters are negative, leading to numerical issues. \n",
    "A commonly-used technique to enforce this condition is to work with a transformed version of parameters using the logarithm transformation. \n",
    "In particular, define $\\psi = \\log\\sigma^2$. \n",
    "So remember to take the exponential of $\\psi$ if you want to use $\\sigma^2$."
   ]
  },
  {
   "cell_type": "code",
   "metadata": {
    "id": "_6tEhTaFvMd7",
    "ExecuteTime": {
     "end_time": "2024-06-05T07:54:57.865411Z",
     "start_time": "2024-06-05T07:54:57.860090Z"
    }
   },
   "source": [
    "from functools import partial\n",
    "from typing import NamedTuple\n",
    "\n",
    "\n",
    "class GaussianDiagonal(NamedTuple):\n",
    "    mean: jnp.array\n",
    "    log_var: jnp.array"
   ],
   "outputs": [],
   "execution_count": 379
  },
  {
   "cell_type": "markdown",
   "metadata": {
    "id": "syVPqsDvvMd7"
   },
   "source": [
    "**Exercise**: Complete the next function to sample once using the reparameterization trick. Remember $p(\\boldsymbol z) = p(t(\\boldsymbol \\varepsilon;\\boldsymbol \\theta))$ where $t(\\cdot) = \\boldsymbol \\mu + \\boldsymbol \\sigma \\odot \\boldsymbol \\varepsilon$ and $\\boldsymbol \\varepsilon \\sim \\mathcal{N}(\\boldsymbol 0, \\boldsymbol 1)$"
   ]
  },
  {
   "cell_type": "code",
   "metadata": {
    "id": "jxhPJgqLvMd8",
    "ExecuteTime": {
     "end_time": "2024-06-05T07:54:57.873498Z",
     "start_time": "2024-06-05T07:54:57.868479Z"
    }
   },
   "source": [
    "def sample_gaussian_diagonal(rng, params):\n",
    "    mean, log_var = params\n",
    "    eps = jax.random.normal(rng, shape=mean.shape)\n",
    "    return mean + eps * jnp.exp(0.5 * log_var)\n",
    "    # @@ COMPLETE @@ #"
   ],
   "outputs": [],
   "execution_count": 380
  },
  {
   "cell_type": "markdown",
   "metadata": {
    "id": "sxv7NSFGvMd8"
   },
   "source": [
    "**Exercise**: Create a Gaussian with two components with $\\mathcal{N}(\\boldsymbol 0, \\boldsymbol 1)$ and get one sample."
   ]
  },
  {
   "cell_type": "code",
   "metadata": {
    "id": "vIa-lfEvvMd8",
    "ExecuteTime": {
     "end_time": "2024-06-05T07:54:57.884656Z",
     "start_time": "2024-06-05T07:54:57.875266Z"
    }
   },
   "source": [
    "rng = jax.random.PRNGKey(0)\n",
    "p_params = GaussianDiagonal(jnp.zeros(2), jnp.zeros(1))\n",
    "print(sample_gaussian_diagonal(rng, p_params))\n",
    "# @@ COMPLETE @@ #\n",
    "# @@ COMPLETE @@ #"
   ],
   "outputs": [
    {
     "name": "stdout",
     "output_type": "stream",
     "text": [
      "[-0.78476596  0.85644484]\n"
     ]
    }
   ],
   "execution_count": 381
  },
  {
   "cell_type": "markdown",
   "metadata": {
    "id": "3c3nrQu8vMd9"
   },
   "source": [
    "# 2. KL Divergence"
   ]
  },
  {
   "cell_type": "markdown",
   "metadata": {
    "id": "v8w55x7PvMd9"
   },
   "source": [
    "The expression of the KL divergence between multivariate Gaussians $q = \\mathcal{N}(\\boldsymbol{\\mu}_q, \\boldsymbol\\Sigma_q)$ and $p = \\mathcal{N}(\\boldsymbol{\\mu}_p, \\boldsymbol\\Sigma_p)$ is as follows:\n",
    "\n",
    "\\begin{equation}\n",
    "\\mathrm{KL}[q || p] = \n",
    "\\frac{1}{2} \\mathrm{Tr}(\\boldsymbol\\Sigma_p^{-1} \\boldsymbol\\Sigma_q)\n",
    "+ \\frac{1}{2} (\\boldsymbol\\mu_p - \\boldsymbol\\mu_q)^{\\top} \\boldsymbol\\Sigma_1^{-1} (\\boldsymbol\\mu_p - \\boldsymbol\\mu_q)\n",
    "- \\frac{D}{2} \n",
    "+ \\frac{1}{2} \\log\\left( \\frac{\\mathrm{det}\\boldsymbol\\Sigma_p}{\\mathrm{det}\\boldsymbol\\Sigma_q} \\right)\n",
    "\\end{equation}\n",
    "\n",
    "\n",
    "This formula simplifies when the two Gaussians have diagonal covariance, i.e. $q = \\mathcal{N}(\\boldsymbol{\\mu}_q, \\boldsymbol{\\sigma}^2_q\\mathrm{I})$ and $p = \\mathcal{N}(\\boldsymbol{\\mu}_p, \\boldsymbol{\\sigma}^2_p\\mathrm{I})$,\n",
    "\n",
    "$$\n",
    "\\mathrm{KL}[q || p] =  \\frac{1}{2} \\sum\\left( \\log \\frac{\\sigma^2_p}{\\sigma^2_q} + \\frac{\\sigma_q^2 + (\\mu_q - \\mu_p)^2}{\\sigma_p^2} - 1 \\right)\n",
    "$$\n",
    "\n",
    "\n",
    "**Exercise:** \n",
    "Complete the next function to compute the KL divergence between two multivariate Gaussian distribution with diagonal covariance. *Note:* Since we have parameterized the Gaussian distribution with the logvariance, the formula above can be simplified even further."
   ]
  },
  {
   "cell_type": "code",
   "metadata": {
    "id": "kayty4yuvMd9",
    "ExecuteTime": {
     "end_time": "2024-06-05T07:54:57.892046Z",
     "start_time": "2024-06-05T07:54:57.887061Z"
    }
   },
   "source": [
    "def kl_diag_diag(q_params, p_params):\n",
    "    assert isinstance(q_params, GaussianDiagonal)\n",
    "    assert isinstance(p_params, GaussianDiagonal)\n",
    "    mean_q, log_var_q = q_params\n",
    "    mean_p, log_var_p = p_params\n",
    "    kl = 0.5 * jnp.sum(\n",
    "        log_var_p - log_var_q \n",
    "        + (mean_q - mean_p) **2 /\n",
    "        jnp.exp(log_var_p) + jnp.exp(log_var_q - log_var_p) -1.0\n",
    "    )\n",
    "    # @@ COMPLETE @@ #\n",
    "    return kl"
   ],
   "outputs": [],
   "execution_count": 382
  },
  {
   "cell_type": "markdown",
   "metadata": {
    "id": "52e1xtN6vMd-"
   },
   "source": [
    "**Exercise:**\n",
    "Create two identical Gaussian distributions and compute the KL divergence using the function. What's the result? Is it what you were expecting? "
   ]
  },
  {
   "cell_type": "code",
   "metadata": {
    "id": "KyZDYVONvMd-",
    "ExecuteTime": {
     "end_time": "2024-06-05T07:54:58.031719Z",
     "start_time": "2024-06-05T07:54:58.024907Z"
    }
   },
   "source": [
    "q_params = GaussianDiagonal(jnp.zeros(2), jnp.zeros(2))\n",
    "# @@ COMPLETE @@ #\n",
    "\n",
    "print(\"KL =\", kl_diag_diag(q_params, p_params))\n",
    "print(\"Expected KL =\", 0.0)"
   ],
   "outputs": [
    {
     "name": "stdout",
     "output_type": "stream",
     "text": [
      "KL = 0.0\n",
      "Expected KL = 0.0\n"
     ]
    }
   ],
   "execution_count": 383
  },
  {
   "cell_type": "markdown",
   "metadata": {
    "id": "ts-u6N4cvMd_"
   },
   "source": [
    "# 3. Model\n",
    "\n",
    "Now we can move to design the model. We will use a simple logistic regression very similarly to what done in the previous MCMC lab.\n",
    "This very simple model computes $h(\\boldsymbol{x}) = h(\\boldsymbol{w}^\\top\\boldsymbol{x})$, where $h(\\cdot)$ is the logistic function. \n",
    "\n",
    "**Exercise:** \n",
    "Complete the next two functions to compute (i) the logistic function and (ii) the output of the model, given a particular choice of $\\boldsymbol w$."
   ]
  },
  {
   "cell_type": "code",
   "metadata": {
    "id": "QVWt1MsZvMd_",
    "ExecuteTime": {
     "end_time": "2024-06-05T07:54:58.297487Z",
     "start_time": "2024-06-05T07:54:58.292577Z"
    }
   },
   "source": [
    "def logistic(z):\n",
    "    y = 1 / (1 + jnp.exp(-z))\n",
    "    return y# @@ COMPLETE @@ #\n",
    "\n",
    "\n",
    "def model(w, X):\n",
    "    y = logistic(jnp.dot(X, w))\n",
    "    return y # @@ COMPLETE @@ #"
   ],
   "outputs": [],
   "execution_count": 384
  },
  {
   "cell_type": "markdown",
   "metadata": {
    "tags": [],
    "id": "-eWSZU6bvMeA"
   },
   "source": [
    "# 4. Variational objective\n",
    "\n",
    "The objective is to maximize this variational bound:\n",
    "$$\n",
    "      \\mathcal{L}(\\theta) = \\underbrace{\\mathbb{E}_{q_{\\theta}}\\log p(\\boldsymbol{y}|\\boldsymbol{X}, \\boldsymbol{w})}_\\text{Expected loglikelihood} -\\mathrm{KL}[{q_{\\theta}(\\boldsymbol{w})}||{p(\\boldsymbol{w})}]\n",
    "$$\n",
    "\n",
    "**Exercise:**\n",
    "Complete the next cell to compute the ELBO."
   ]
  },
  {
   "cell_type": "code",
   "metadata": {
    "id": "SmqtQMsNvMeA",
    "ExecuteTime": {
     "end_time": "2024-06-05T07:54:58.469457Z",
     "start_time": "2024-06-05T07:54:58.459592Z"
    }
   },
   "source": [
    "def create_elbo_fn(sample_fn, likelihood_fn, kl_divergence_fn):\n",
    "    \"\"\"Create a function to compute the ELBO, given the function to sample\n",
    "    from the posterior, the likelihood function and the KL divergence\n",
    "    \"\"\"\n",
    "\n",
    "    @partial(jax.vmap, in_axes=[0, None, None, None])\n",
    "    def likelihood_sample_fn(rng, q_params, X, y):\n",
    "        \"\"\"Compute the likelihood with one Monte Carlo sample of the posterior\n",
    "        The function is decorated to vectorize multiple MC samples automatically\n",
    "        \"\"\"\n",
    "        # Get one sample of w using the sample_fn and the parameters of q\n",
    "        w = sample_fn(rng, q_params) # @@ COMPLETE @@ #\n",
    "        # Predict the output using the sample before\n",
    "        yp = model(w,X) # @@ COMPLETE @@ #\n",
    "        # Compute the likelihood and return it\n",
    "        return jnp.sum(likelihood_fn(y, yp)) # @@ COMPLETE @@ #\n",
    "        # @@ COMPLETE @@ #\n",
    "\n",
    "    def elbo_fn(q_params, p_params, rng, X, y, Nmc=1):\n",
    "        \"\"\"Computes the ELBO with multiple samples\"\"\"\n",
    "        # Split the random seed in Nmc times\n",
    "        rng = jax.random.split(rng, Nmc)\n",
    "\n",
    "        # Compute the values of the likelihood\n",
    "        likelihood_vals = likelihood_sample_fn(rng, q_params, X, y) # @@ COMPLETE @@ #\n",
    "        # Compute the expectation (i.e. take the mean)\n",
    "        expected_likelihood = jnp.mean(likelihood_vals) # @@ COMPLETE @@ #\n",
    "        # Compute the KL divergence\n",
    "        kl = kl_divergence_fn(q_params, p_params)# @@ COMPLETE @@ #\n",
    "        # Compute the ELBO\n",
    "        elbo = expected_likelihood - kl# @@ COMPLETE @@ #\n",
    "        # Return the ELBO and its two term (used later for logging)\n",
    "        return elbo, (expected_likelihood, kl)\n",
    "\n",
    "    return elbo_fn"
   ],
   "outputs": [],
   "execution_count": 385
  },
  {
   "cell_type": "markdown",
   "metadata": {
    "id": "MH45xHtmvMeB"
   },
   "source": [
    "**Exercise:**\n",
    "Using the function above, create the function to compute the ELBO."
   ]
  },
  {
   "cell_type": "code",
   "metadata": {
    "id": "VnqnyUJ2vMeB",
    "ExecuteTime": {
     "end_time": "2024-06-05T07:54:58.623679Z",
     "start_time": "2024-06-05T07:54:58.619995Z"
    }
   },
   "source": [
    "elbo_fn = create_elbo_fn(\n",
    "    sample_fn= sample_gaussian_diagonal, # @@ COMPLETE @@ #\n",
    "    kl_divergence_fn= kl_diag_diag,# @@ COMPLETE @@ #\n",
    "    likelihood_fn= bernoulli_density# @@ COMPLETE @@ #\n",
    ")"
   ],
   "outputs": [],
   "execution_count": 386
  },
  {
   "cell_type": "markdown",
   "metadata": {
    "id": "0DHqy2FovMeB"
   },
   "source": [
    "**Exercise:**\n",
    "Try to compute the variational objective (use 10 Monte Carlo samples)."
   ]
  },
  {
   "cell_type": "code",
   "metadata": {
    "id": "GHHyBKoVvMeC",
    "ExecuteTime": {
     "end_time": "2024-06-05T07:54:58.722095Z",
     "start_time": "2024-06-05T07:54:58.708926Z"
    }
   },
   "source": [
    "elbo, (likelihood, kl) = elbo_fn(q_params, p_params, rng, X, y, Nmc=10) # @@ COMPLETE @@ #\n",
    "print(\"ELBO =\", elbo)\n",
    "print(\"Likelihood =\", likelihood)\n",
    "print(\"KL =\", kl)"
   ],
   "outputs": [
    {
     "name": "stdout",
     "output_type": "stream",
     "text": [
      "ELBO = -115.74033\n",
      "Likelihood = -115.74033\n",
      "KL = 0.0\n"
     ]
    }
   ],
   "execution_count": 387
  },
  {
   "cell_type": "markdown",
   "metadata": {
    "id": "IRes3SovvMeC"
   },
   "source": [
    "## 4.1 Analysis of the MC estimate of the ELBO"
   ]
  },
  {
   "cell_type": "markdown",
   "metadata": {
    "id": "iwDg6oeOvMeC"
   },
   "source": [
    "Ok, now that everything is done and ready we can start to make some analysis.\n",
    "\n",
    "First of all, as we said we don't have an analytical formula for the variational objective (our loss). We can only access (unbiased) samples, hence the next question.\n",
    "\n",
    "**Exercise:**\n",
    "Try to sample using 100 different random seeds the ELBO with [2, 10, 100, 1000] MC samples and plot their distribution with boxplots."
   ]
  },
  {
   "cell_type": "code",
   "metadata": {
    "id": "gRIqiCDOvMeC",
    "ExecuteTime": {
     "end_time": "2024-06-05T07:55:02.247378Z",
     "start_time": "2024-06-05T07:54:58.847456Z"
    }
   },
   "source": [
    "elbo_samples = pd.DataFrame()\n",
    "n_repetition = 100\n",
    "\n",
    "for Nmc in [2, 10, 100, 1000]:\n",
    "    elbo_samples[Nmc] = np.stack(\n",
    "        [\n",
    "            elbo_fn(q_params, p_params, jax.random.PRNGKey(i), X, y, Nmc=Nmc)[0]\n",
    "            for i in range(n_repetition)\n",
    "        ]\n",
    "    )"
   ],
   "outputs": [],
   "execution_count": 388
  },
  {
   "cell_type": "code",
   "metadata": {
    "id": "Sl43r_MOvMeD",
    "ExecuteTime": {
     "end_time": "2024-06-05T07:55:02.583248Z",
     "start_time": "2024-06-05T07:55:02.249719Z"
    }
   },
   "source": [
    "fig, ax = plt.subplots(figsize=[8, 4])\n",
    "sns.boxplot(data=elbo_samples, whis=np.inf)\n",
    "ax.set_title(\"Samples of the MC estimate of the ELBO\")\n",
    "ax.set_xlabel(\"Number of MC samples\")\n",
    "ax.set_ylabel(\"ELBO\")\n",
    "ax.margins(0, 0.05)\n",
    "\n",
    "plt.show()"
   ],
   "outputs": [
    {
     "data": {
      "text/plain": [
       "<Figure size 800x400 with 1 Axes>"
      ],
      "image/png": "[encoded data removed]"
     },
     "metadata": {},
     "output_type": "display_data"
    }
   ],
   "execution_count": 389
  },
  {
   "cell_type": "markdown",
   "metadata": {
    "id": "YDI4wp3DvMeD"
   },
   "source": [
    "We said that, in case of large datasets, this can be computationally challenging, due to the evaluation of the likelihood $N_\\mathrm{MC}$ times.\n",
    "But we know that the ELBO can be approximated even further using mini-batching.\n",
    "Taking a random subset of data $\\mathcal{B}$, the approximation becomes\n",
    "\n",
    "$$\n",
    "    \\mathbb{E}_{q_{\\theta}}\\log p(\\boldsymbol{y}|\\boldsymbol{X}, \\boldsymbol{w}) \\approx \\dfrac{1}{N_\\mathrm{MC}} \\frac{N}{|\\mathcal{B}|}\\sum_{\\tilde{\\boldsymbol{w}}_i\\sim q_\\theta} \\sum_{\\boldsymbol{X}_j, \\boldsymbol{y}_j\\sim\\mathcal{B}} \\log p(\\boldsymbol{y}_j|\\boldsymbol{X}_j, \\tilde{\\boldsymbol{w}}_i)\n",
    "$$\n",
    "\n",
    "This introduces even more variance in the estimate of the ELBO but it allows to scale to (virtually) any sized dataset.\n",
    "You are free to extend this to our ELBO estimator, but for the simple example we are using today, this is not required."
   ]
  },
  {
   "cell_type": "markdown",
   "metadata": {
    "id": "0hw-RzYhvMeE"
   },
   "source": [
    "# 5. Optimization\n",
    "\n",
    "Ok, now we can move to the optimization of the ELBO: \n",
    "$$\n",
    "\\boldsymbol \\theta_{t+1} = \\boldsymbol \\theta_t + \\text{lr}\\cdot(\\nabla_{\\boldsymbol \\theta} \\mathcal{L})(\\boldsymbol \\theta_t)\n",
    "$$\n",
    "Below you have a simple function to implement this update"
   ]
  },
  {
   "cell_type": "code",
   "metadata": {
    "id": "GguSZWMvvMeE",
    "ExecuteTime": {
     "end_time": "2024-06-05T07:55:02.589985Z",
     "start_time": "2024-06-05T07:55:02.585258Z"
    }
   },
   "source": [
    "def sg_update(params, gradients, learning_rate=1e-3):\n",
    "    updated_params = jax.tree_map(lambda p, g: p + learning_rate * g, params, gradients)\n",
    "    return updated_params"
   ],
   "outputs": [],
   "execution_count": 390
  },
  {
   "cell_type": "markdown",
   "metadata": {
    "id": "9JFLoGIDvMeF"
   },
   "source": [
    "And here the function to compute the gradient (this function will also be compiled using `jax.jit` for better optimization and faster running times)."
   ]
  },
  {
   "cell_type": "code",
   "metadata": {
    "id": "xk2IU1XmvMeF",
    "ExecuteTime": {
     "end_time": "2024-06-05T07:55:02.598170Z",
     "start_time": "2024-06-05T07:55:02.592855Z"
    }
   },
   "source": [
    "grad_elbo_fn = jax.grad(elbo_fn, has_aux=True)\n",
    "grad_elbo_fn = jax.jit(grad_elbo_fn, static_argnames=(\"Nmc\"))"
   ],
   "outputs": [],
   "execution_count": 391
  },
  {
   "cell_type": "markdown",
   "metadata": {
    "id": "lmQVXB9DvMeF"
   },
   "source": [
    "**Exercise:**\n",
    "Write the training loop to optimize the ELBO (use a learning rate of $10^{-3}$). At every step, store the value of the ELBO, of the expected likelihood and the KL."
   ]
  },
  {
   "cell_type": "code",
   "metadata": {
    "id": "UZxjJ53pvMeG",
    "ExecuteTime": {
     "end_time": "2024-06-05T07:55:08.517341Z",
     "start_time": "2024-06-05T07:55:02.600116Z"
    }
   },
   "source": [
    "rng = jax.random.PRNGKey(0)\n",
    "q_params = GaussianDiagonal(jnp.zeros(2), jnp.zeros(2))\n",
    "\n",
    "elbo_summary = []\n",
    "lik_summary = []\n",
    "kl_summary = []\n",
    "\n",
    "for i in tqdm(range(10000), desc=\"Training ELBO\"):\n",
    "    rng, rng2 = jax.random.split(rng)\n",
    "    q_params_grad, (likelihood, kl) = grad_elbo_fn(q_params, p_params,rng2, X ,y, 100)# @@ COMPLETE @@ #\n",
    "    q_params = sg_update(q_params, q_params_grad, 1e-3) # @@ COMPLETE @@ #\n",
    "\n",
    "    lik_summary.append(likelihood)\n",
    "    kl_summary.append(kl)\n",
    "    elbo_summary.append(likelihood - kl)"
   ],
   "outputs": [
    {
     "data": {
      "text/plain": [
       "Training ELBO:   0%|          | 0/10000 [00:00<?, ?it/s]"
      ],
      "application/vnd.jupyter.widget-view+json": {
       "version_major": 2,
       "version_minor": 0,
       "model_id": "bb028143991e4a78b184c90120faa918"
      }
     },
     "metadata": {},
     "output_type": "display_data"
    }
   ],
   "execution_count": 392
  },
  {
   "cell_type": "code",
   "metadata": {
    "id": "Is7ih1_bvMeG",
    "ExecuteTime": {
     "end_time": "2024-06-05T07:55:08.524259Z",
     "start_time": "2024-06-05T07:55:08.519003Z"
    }
   },
   "source": [
    "print(\"Converged posterior\")\n",
    "print(\"Mean =\", q_params.mean)\n",
    "print(\"Var =\", np.exp(q_params.log_var))"
   ],
   "outputs": [
    {
     "name": "stdout",
     "output_type": "stream",
     "text": [
      "Converged posterior\n",
      "Mean = [1.3535433 1.2750359]\n",
      "Var = [0.21945968 0.25341353]\n"
     ]
    }
   ],
   "execution_count": 393
  },
  {
   "cell_type": "markdown",
   "metadata": {
    "id": "eZ4PZAGLvMeH"
   },
   "source": [
    "**Exercise:**\n",
    "Assess convergence of the optimization by plotting the three metrics."
   ]
  },
  {
   "cell_type": "code",
   "metadata": {
    "id": "B-btA1QxvMeH",
    "ExecuteTime": {
     "end_time": "2024-06-05T07:55:10.425238Z",
     "start_time": "2024-06-05T07:55:08.526466Z"
    }
   },
   "source": [
    "fig, (ax0, ax1, ax2) = plt.subplots(1, 3, figsize=[8, 2.5])\n",
    "\n",
    "ax0.plot(elbo_summary, label=\"ELBO\")\n",
    "ax1.plot(\n",
    "    lik_summary,\n",
    "    color=\"tab:orange\",\n",
    "    label=r\"$E_{q(\\mathbf{w})} \\log p(\\mathbf{y}|\\mathbf{X},\\mathbf{w})$\",\n",
    ")\n",
    "ax2.plot(\n",
    "    kl_summary,\n",
    "    color=\"tab:green\",\n",
    "    label=r\"$\\mathrm{KL}[{q(\\mathbf{w})}||{p(\\mathbf{w})}]$\",\n",
    ")\n",
    "\n",
    "ax0.semilogx()\n",
    "ax1.semilogx()\n",
    "ax2.semilogx()\n",
    "\n",
    "ax0.axhline(-0.4, color=\"xkcd:red\", label=r\"$\\log p(\\mathbf{y}|\\mathbf{X})$\")\n",
    "ax0.legend(bbox_to_anchor=(1.05, -0.05), loc=\"lower right\")\n",
    "ax1.legend(bbox_to_anchor=(1.05, -0.05), loc=\"lower right\")\n",
    "ax2.legend(bbox_to_anchor=(1.05, -0.05), loc=\"lower right\")\n",
    "\n",
    "ax0.set_xlabel(\"Iteration\")\n",
    "ax1.set_xlabel(\"Iteration\")\n",
    "ax2.set_xlabel(\"Iteration\")\n",
    "\n",
    "plt.show()"
   ],
   "outputs": [
    {
     "data": {
      "text/plain": [
       "<Figure size 800x250 with 3 Axes>"
      ],
      "image/png": "[encoded data removed]"
     },
     "metadata": {},
     "output_type": "display_data"
    }
   ],
   "execution_count": 394
  },
  {
   "cell_type": "markdown",
   "metadata": {
    "id": "jNf8ltQavMeH"
   },
   "source": [
    "**Question:**\n",
    "Analyze the behaviour of these three values and comment the plots. Focus you analysis on the breakdown of the ELBO in its parts."
   ]
  },
  {
   "cell_type": "markdown",
   "metadata": {
    "id": "cGg9vOaovMeI"
   },
   "source": [
    "Now the predictions! \n",
    "\n",
    "\\begin{equation}\n",
    "\\mathbb{E}_{q(\\boldsymbol{w})}h(\\boldsymbol{w}^\\top\\boldsymbol{x}_\\mathrm{new}) = \\int h(\\boldsymbol{w}^\\top\\boldsymbol{x}_\\mathrm{new}) q(\\boldsymbol{w}) \\mathrm{d}\\boldsymbol{w}\n",
    "\\end{equation}\n",
    "\n",
    "**Exercise**:\n",
    "With 1000 samples, compute the probability $P (y_\\mathrm{new} = 1 | \\boldsymbol{x}_\\mathrm{new}, \\boldsymbol{X}, \\boldsymbol{y})$ when $\\boldsymbol{x}_\\mathrm{new} = [2,-4]^\\top$. Compare the result with the number you got from the previous lab.\n"
   ]
  },
  {
   "cell_type": "code",
   "metadata": {
    "id": "pedu_08jvMeI",
    "ExecuteTime": {
     "end_time": "2024-06-05T07:55:10.433997Z",
     "start_time": "2024-06-05T07:55:10.427782Z"
    }
   },
   "source": [
    "def predict_y(sample_fn, q_params, Xt, rng, Nmc=10):\n",
    "    \"\"\"Compute the outputs of the model by sampling the posterior,\n",
    "    then take the expectation\n",
    "    \"\"\"\n",
    "\n",
    "    def predict_y_single(rng):\n",
    "        w = # @@ COMPLETE @@ #\n",
    "        yp = # @@ COMPLETE @@ #\n",
    "        return yp\n",
    "\n",
    "    rng = jax.random.split(rng, Nmc)\n",
    "    Xt = jnp.atleast_1d(Xt)\n",
    "    yp = jax.vmap(predict_y_single)(rng)\n",
    "    # Take the mean\n",
    "    yp = # @@ COMPLETE @@ #\n",
    "    return yp\n",
    "\n",
    "\n",
    "yp = predict_y(sample_gaussian_diagonal, q_params, [2, -4], rng, Nmc=1000)\n",
    "print(yp)"
   ],
   "outputs": [
    {
     "ename": "SyntaxError",
     "evalue": "invalid syntax (4164188616.py, line 7)",
     "output_type": "error",
     "traceback": [
      "\u001B[0;36m  Cell \u001B[0;32mIn[395], line 7\u001B[0;36m\u001B[0m\n\u001B[0;31m    w = # @@ COMPLETE @@ #\u001B[0m\n\u001B[0m        ^\u001B[0m\n\u001B[0;31mSyntaxError\u001B[0m\u001B[0;31m:\u001B[0m invalid syntax\n"
     ]
    }
   ],
   "execution_count": 395
  },
  {
   "cell_type": "markdown",
   "metadata": {
    "id": "6boHjWWqvMeI"
   },
   "source": [
    "**Execise:**\n",
    "Let's now plot the distribution at convergence and the predictions on a grid of points."
   ]
  },
  {
   "cell_type": "code",
   "metadata": {
    "id": "5rM9o3R-vMeJ"
   },
   "source": [
    "import scipy.stats\n",
    "\n",
    "\n",
    "def plot_gaussian(params, **kwargs):\n",
    "    ax = kwargs.pop(\"ax\", plt.gca())\n",
    "    xx, yy, w_plot = get_grid(xlim=(-1.5, 5.5), N=250)\n",
    "    if isinstance(params, GaussianDiagonal):\n",
    "        cov = np.exp(params.log_var) * np.eye(2)\n",
    "    else:\n",
    "        cov = params.L @ params.L.T\n",
    "    zz = (\n",
    "        scipy.stats.multivariate_normal(mean=params.mean, cov=cov)\n",
    "        .pdf(w_plot)\n",
    "        .reshape(*xx.shape)\n",
    "    )\n",
    "\n",
    "    levels = np.linspace(1e-5, np.max(zz), 10)\n",
    "    ax.contourf(xx, yy, zz, cmap=\"cividis\", alpha=0.8, levels=levels)\n",
    "    ax.contour(xx, yy, zz, cmap=\"cividis\", levels=levels)\n",
    "\n",
    "    ax.set_xlabel(r\"$\\boldsymbol{w}_0$\")\n",
    "    ax.set_ylabel(r\"$\\boldsymbol{w}_1$\")\n",
    "\n",
    "\n",
    "def plot_posterior(ax):\n",
    "    xx, yy, w_plot = get_grid(xlim=(-1.5, 5.5), N=250)\n",
    "    zz = np.zeros(len(w_plot))\n",
    "    for i, w in enumerate(w_plot):\n",
    "        zz[i] = bernoulli_density(y, model(w, X)).sum() -0.5* w.T@w\n",
    "    zz = np.exp(zz).reshape(*xx.shape)\n",
    "    levels = np.linspace(1e-5, np.max(zz), 10)\n",
    "    ax.contourf(xx, yy, zz, cmap=\"cividis\", alpha=0.8, levels=levels)\n",
    "    ax.contour(xx, yy, zz, cmap=\"cividis\", levels=levels)\n",
    "    ax.set_xlabel(r\"$\\boldsymbol{w}_0$\")\n",
    "    ax.set_ylabel(r\"$\\boldsymbol{w}_1$\")"
   ],
   "outputs": [],
   "execution_count": null
  },
  {
   "cell_type": "code",
   "metadata": {
    "id": "iV4sKQOzvMeJ"
   },
   "source": [
    "fig, (ax0, ax1, ax2) = plt.subplots(1, 3, figsize=[12, 4])\n",
    "\n",
    "plot_gaussian(p_params, ax=ax0)\n",
    "plot_posterior(ax=ax1)\n",
    "plot_gaussian(q_params, ax=ax2)\n",
    "\n",
    "ax0.set_title(\"Prior\")\n",
    "ax1.set_title(\"True posterior\")\n",
    "ax2.set_title(\"Variational approx.\")\n",
    "\n",
    "plt.show()"
   ],
   "outputs": [],
   "execution_count": null
  },
  {
   "cell_type": "code",
   "metadata": {
    "id": "uEoeWbq7vMeJ"
   },
   "source": [
    "def plot_decision_boundary(xx, yy, P, ax):\n",
    "    P = P.reshape(*xx.shape)\n",
    "    levels = [0, 0.05, 0.1, 0.25, 0.5, 0.75, 0.9, 0.95, 1]\n",
    "    cs = ax.contour(xx, yy, P, levels, colors=\"k\", linewidths=1.8, zorder=100)\n",
    "    ax.clabel(cs, inline=1, fontsize=10)\n",
    "    cs = ax.contourf(xx, yy, P, levels, cmap=\"Purples_r\", alpha=0.5)\n",
    "\n",
    "\n",
    "xx, yy, Xt = get_grid((-7, 7), N=50)\n",
    "ps = # @@ COMPLETE @@ #\n",
    "\n",
    "fig, ax = plt.subplots(figsize=[5, 4])\n",
    "plot_decision_boundary(xx, yy, ps, ax=ax)\n",
    "plot_data(X, y, ax=ax)\n",
    "\n",
    "ax.set_xlabel(r\"$\\boldsymbol{x}_0$\")\n",
    "ax.set_ylabel(r\"$\\boldsymbol{x}_1$\")\n",
    "ax.set_title(\"Predictive density\")\n",
    "plt.show()"
   ],
   "outputs": [],
   "execution_count": null
  },
  {
   "cell_type": "markdown",
   "metadata": {
    "id": "Xaz9ZlhZvMeK"
   },
   "source": [
    "**Exercise:**\n",
    "At convergence, sample 1000 times the ELBO like we did before, and plot it with a boxplot."
   ]
  },
  {
   "cell_type": "code",
   "metadata": {
    "id": "2goM5w5DvMeK"
   },
   "source": [
    "converged_elbos = pd.DataFrame()\n",
    "n_repetition = 1000\n",
    "converged_elbos[\"Diagonal posterior\"] = # @@ COMPLETE @@ #"
   ],
   "outputs": [],
   "execution_count": null
  },
  {
   "cell_type": "code",
   "metadata": {
    "id": "MdS2ZKgovMeK"
   },
   "source": [
    "fig, ax = plt.subplots(figsize=[4, 3])\n",
    "sns.boxplot(\n",
    "    data=converged_elbos,\n",
    "    whis=np.inf,\n",
    ")\n",
    "ax.axhline(-0.4, color=\"xkcd:red\", label=r\"$p(\\boldsymbol{y}|\\boldsymbol{X})$\")\n",
    "ax.set_title(\"ELBO at convergence\", y=1.02)\n",
    "ax.legend()\n",
    "plt.show()"
   ],
   "outputs": [],
   "execution_count": null
  },
  {
   "cell_type": "markdown",
   "metadata": {
    "id": "qSNwUN_kvMeL"
   },
   "source": [
    "# 6. Alternatives to Mean Field Variational Inference\n",
    "\n",
    "As we saw from one of the previous question, the approximation that we used is very rough: it recoves some properties of the true posterior but fails to capture the strong correlation that exists in the parameter space. \n",
    "What we need to do it to increase the complexity and the expressiveness of the variational posterior. \n",
    "The first step that we can do is to introduce a non-diagonal covariance $\\boldsymbol{w} \\sim \\mathcal{N}(\\mu, \\Sigma)$, where the covariance $\\Sigma=LL^\\top$ ($L$ is a lower triangular matrix).\n",
    "\n",
    "Sampling from such distribution is possible again using the reparameterization trick,\n",
    "\n",
    "\\begin{equation}\n",
    "\\tilde{\\boldsymbol{w}} = \\mu + \\mathrm{Tril}(L)\\boldsymbol{\\varepsilon} \\quad \\boldsymbol{\\varepsilon} \\sim \\mathcal{N}(0, \\mathrm{I})\n",
    "\\end{equation}\n",
    "\n",
    "where $\\mathrm{Tril}(\\cdot)$ returns the lower triangular part of the matrix (the other elements are set to 0).\n",
    "\n",
    "**Exercise:** \n",
    "Complete the next functions to model a full covariance Gaussian distribution."
   ]
  },
  {
   "cell_type": "code",
   "metadata": {
    "id": "6SbCvL_1vMeL"
   },
   "source": [
    "class GaussianFullCov(NamedTuple):\n",
    "    mean: jnp.array\n",
    "    L: jnp.array\n",
    "\n",
    "\n",
    "def sample_gaussian_fullcov(key, params):\n",
    "    mean, L = params\n",
    "    eps = # @@ COMPLETE @@ #\n",
    "    return # @@ COMPLETE @@ #"
   ],
   "outputs": [],
   "execution_count": null
  },
  {
   "cell_type": "code",
   "metadata": {
    "id": "Fb7ZPPyHvMeL"
   },
   "source": [
    "q_params = GaussianFullCov(jnp.zeros(2), jnp.eye(2))\n",
    "\n",
    "print(sample_gaussian_fullcov(jax.random.PRNGKey(1), q_params))"
   ],
   "outputs": [],
   "execution_count": null
  },
  {
   "cell_type": "markdown",
   "metadata": {
    "id": "NdhTypk3vMeL"
   },
   "source": [
    "Now we need to compute the KL divergence between $q$ Gaussian with full covariance and $p$ Gaussian with diagonal covariance. \n",
    "Remember that the expression of the KL divergence between multivariate Gaussians $q = \\mathcal{N}(\\boldsymbol{\\mu}_q, \\Sigma_q)$ and $p = \\mathcal{N}(\\boldsymbol{\\mu}_p, \\Sigma_p)$ is as follows:\n",
    "\n",
    "\\begin{equation}\n",
    "\\mathrm{KL}[q || p] = \n",
    "\\frac{1}{2} \\mathrm{Tr}(\\Sigma_p^{-1} \\Sigma_q)\n",
    "+ \\frac{1}{2} (\\mu_p - \\mu_q)^{\\top} \\Sigma_p^{-1} (\\mu_p - \\mu_q)\n",
    "- \\frac{D}{2} \n",
    "+ \\frac{1}{2} \\log\\left( \\frac{\\mathrm{det}\\Sigma_p}{\\mathrm{det}\\Sigma_q} \\right)\n",
    "\\end{equation}\n",
    "\n",
    "**Question:**\n",
    "Given that $q = \\mathcal{N}(\\boldsymbol{\\mu}_q, LL^\\top)$ and $p = \\mathcal{N}(\\boldsymbol{\\mu}_p, \\sigma^2_p\\mathrm{I})$, write the simplified KL divergence. \n",
    "\n",
    "*Hints:* \n",
    "\n",
    "- $\\mathrm{Tr}(\\boldsymbol L \\boldsymbol L^\\top) = \\sum_i\\mathrm{diag}(\\boldsymbol L)_i^2$ \n",
    "\n",
    "- $\\log\\mathrm{det}(\\boldsymbol L\\boldsymbol L^\\top) = \\sum_i\\log\\mathrm{diag}(\\boldsymbol L)_i^2$\n"
   ]
  },
  {
   "cell_type": "code",
   "metadata": {
    "id": "v9RoNO7QvMeM"
   },
   "source": [
    "def kl_full_diag(q_params, p_params):\n",
    "    assert isinstance(q_params, GaussianFullCov)\n",
    "    assert isinstance(p_params, GaussianDiagonal)\n",
    "\n",
    "    mean_q, L_q = q_params\n",
    "    mean_p, log_var_p = p_params\n",
    "    kl = # @@ COMPLETE @@ #\n",
    "    return 0.5 * (kl)"
   ],
   "outputs": [],
   "execution_count": null
  },
  {
   "cell_type": "code",
   "metadata": {
    "id": "vUguRtG5vMeM"
   },
   "source": [
    "print(kl_full_diag(q_params, p_params))"
   ],
   "outputs": [],
   "execution_count": null
  },
  {
   "cell_type": "markdown",
   "metadata": {
    "id": "xBepqJFTvMeM"
   },
   "source": [
    "**Exercise:**\n",
    "Create a new ELBO which uses this new distribution."
   ]
  },
  {
   "cell_type": "code",
   "metadata": {
    "id": "4yGttqmRvMeN"
   },
   "source": [
    "elbo_fn = create_elbo_fn(\n",
    "    sample_fn=# @@ COMPLETE @@ #\n",
    "    kl_divergence_fn=# @@ COMPLETE @@ #\n",
    "    likelihood_fn=bernoulli_density,\n",
    ")"
   ],
   "outputs": [],
   "execution_count": null
  },
  {
   "cell_type": "markdown",
   "metadata": {
    "id": "7D_seK-wvMeN"
   },
   "source": [
    "**Exercise:**\n",
    "Train this new model exactly the same as before"
   ]
  },
  {
   "cell_type": "code",
   "metadata": {
    "id": "w6qJGFievMeN"
   },
   "source": [
    "# @@ COMPLETE @@ #"
   ],
   "outputs": [],
   "execution_count": null
  },
  {
   "cell_type": "code",
   "metadata": {
    "id": "hKDPl0PMvMeO"
   },
   "source": [
    "# @@ COMPLETE @@ #"
   ],
   "outputs": [],
   "execution_count": null
  },
  {
   "cell_type": "markdown",
   "metadata": {
    "id": "bkdEh_g1vMeO"
   },
   "source": [
    "**Exercise:**\n",
    "Plot the train curves"
   ]
  },
  {
   "cell_type": "code",
   "metadata": {
    "id": "s0RiJ0gNvMeO"
   },
   "source": [
    "# @@ COMPLETE @@ #"
   ],
   "outputs": [],
   "execution_count": null
  },
  {
   "cell_type": "markdown",
   "metadata": {
    "id": "0o9P_UNxvMeP"
   },
   "source": [
    "**Exercise:**\n",
    "Plot the densities."
   ]
  },
  {
   "cell_type": "code",
   "metadata": {
    "id": "fPSkRCU_vMeP"
   },
   "source": [
    "# @@ COMPLETE @@ #"
   ],
   "outputs": [],
   "execution_count": null
  },
  {
   "cell_type": "markdown",
   "metadata": {
    "id": "FoLXkhXdvMeP"
   },
   "source": [
    "**Exercise:**\n",
    "Plot the predictions."
   ]
  },
  {
   "cell_type": "code",
   "metadata": {
    "id": "FAsEKADtvMeP"
   },
   "source": [
    "# @@ COMPLETE @@ #"
   ],
   "outputs": [],
   "execution_count": null
  },
  {
   "cell_type": "markdown",
   "metadata": {
    "id": "_j0MP49tvMeQ"
   },
   "source": [
    "**Exercise:**\n",
    "Plot the ELBO at convergence."
   ]
  },
  {
   "cell_type": "code",
   "metadata": {
    "id": "aHjmaeNCvMeQ"
   },
   "source": [
    "converged_elbos[\"Full cov. posterior\"] = # @@ COMPLETE @@ #\n",
    "# @@ COMPLETE @@ #"
   ],
   "outputs": [],
   "execution_count": null
  },
  {
   "cell_type": "markdown",
   "metadata": {
    "id": "VNUsv_jYvMeQ"
   },
   "source": [
    "**Question:**\n",
    "Do you observe something interesting? \n",
    "Remember what the ELBO represents. It is the lower bound of the marginal distribution $p(\\boldsymbol{y}|\\boldsymbol{X})$. Check the first lab on Bayesian linear regression if you don't remember what the marginal distribution measures. Based solely on this value, which model would you choose? Why?    "
   ]
  }
 ],
 "metadata": {
  "celltoolbar": "Slideshow",
  "kernelspec": {
   "display_name": "Python 3 (ipykernel)",
   "language": "python",
   "name": "python3"
  },
  "language_info": {
   "codemirror_mode": {
    "name": "ipython",
    "version": 3
   },
   "file_extension": ".py",
   "mimetype": "text/x-python",
   "name": "python",
   "nbconvert_exporter": "python",
   "pygments_lexer": "ipython3",
   "version": "3.9.7"
  },
  "rise": {
   "scroll": true,
   "theme": "sky"
  },
  "toc-autonumbering": false,
  "colab": {
   "name": "Variational_Logistic_Regression.ipynb",
   "provenance": []
  }
 },
 "nbformat": 4,
 "nbformat_minor": 0
}
